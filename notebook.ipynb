{
 "cells": [
  {
   "cell_type": "code",
   "execution_count": 1,
   "metadata": {},
   "outputs": [],
   "source": [
    "import os\n",
    "import re\n",
    "import sys\n",
    "import numpy as np\n",
    "import tensorflow as tf\n",
    "from matrix_gen import input_fn\n",
    "\n",
    "from models.delay_model import RouteNet_Fermi"
   ]
  },
  {
   "cell_type": "code",
   "execution_count": 5,
   "metadata": {},
   "outputs": [
    {
     "name": "stdout",
     "output_type": "stream",
     "text": [
      ".\n"
     ]
    }
   ],
   "source": [
    "print(os.path)"
   ]
  },
  {
   "cell_type": "code",
   "execution_count": 4,
   "metadata": {},
   "outputs": [
    {
     "ename": "FileNotFoundError",
     "evalue": "[Errno 2] No such file or directory: './ckpt_dir'",
     "output_type": "error",
     "traceback": [
      "\u001b[0;31m---------------------------------------------------------------------------\u001b[0m",
      "\u001b[0;31mFileNotFoundError\u001b[0m                         Traceback (most recent call last)",
      "Cell \u001b[0;32mIn[4], line 11\u001b[0m\n\u001b[1;32m      9\u001b[0m best_mre \u001b[39m=\u001b[39m \u001b[39mfloat\u001b[39m(\u001b[39m'\u001b[39m\u001b[39minf\u001b[39m\u001b[39m'\u001b[39m)\n\u001b[1;32m     10\u001b[0m ckpt_dir \u001b[39m=\u001b[39m \u001b[39mf\u001b[39m\u001b[39m'\u001b[39m\u001b[39m./ckpt_dir\u001b[39m\u001b[39m'\u001b[39m\n\u001b[0;32m---> 11\u001b[0m \u001b[39mfor\u001b[39;00m f \u001b[39min\u001b[39;00m os\u001b[39m.\u001b[39;49mlistdir(ckpt_dir):\n\u001b[1;32m     12\u001b[0m     \u001b[39mprint\u001b[39m(os\u001b[39m.\u001b[39mpath\u001b[39m.\u001b[39mcurdir)\n\u001b[1;32m     13\u001b[0m     \u001b[39mif\u001b[39;00m os\u001b[39m.\u001b[39mpath\u001b[39m.\u001b[39misfile(os\u001b[39m.\u001b[39mpath\u001b[39m.\u001b[39mjoin(ckpt_dir, f)):\n",
      "\u001b[0;31mFileNotFoundError\u001b[0m: [Errno 2] No such file or directory: './ckpt_dir'"
     ]
    }
   ],
   "source": [
    "#load model\n",
    "optimizer = tf.keras.optimizers.Adam(learning_rate=0.001)\n",
    "model = RouteNet_Fermi()\n",
    "loss_object = tf.keras.losses.MeanAbsolutePercentageError()\n",
    "model.compile(loss=loss_object,\n",
    "              optimizer=optimizer,\n",
    "              run_eagerly=False)\n",
    "best = None\n",
    "best_mre = float('inf')\n",
    "ckpt_dir = f'./ckpt_dir'\n",
    "for f in os.listdir(ckpt_dir):\n",
    "    \n",
    "    if os.path.isfile(os.path.join(ckpt_dir, f)):\n",
    "        reg = re.findall(\"\\d+\\.\\d+\", f)\n",
    "        if len(reg) > 0:\n",
    "            mre = float(reg[0])\n",
    "            if mre <= best_mre:\n",
    "                best = f.replace('.index', '')\n",
    "                best = best.replace('.data', '')\n",
    "                best = best.replace('-00000-of-00001', '')\n",
    "                best_mre = mre\n",
    "print(\"BEST CHECKPOINT FOUND FOR: {}\".format(best))\n",
    "model.load_weights(os.path.join(ckpt_dir, best))\n",
    "\n",
    "#Make predictions\n",
    "ds_test = input_fn([[0,1],[1,0]])\n",
    "ds_test = ds_test.prefetch(tf.data.experimental.AUTOTUNE)\n",
    "\n",
    "predictions = model.predict(ds_test, verbose=1)\n",
    "print(predictions)"
   ]
  },
  {
   "cell_type": "code",
   "execution_count": null,
   "metadata": {},
   "outputs": [],
   "source": []
  }
 ],
 "metadata": {
  "kernelspec": {
   "display_name": "Python 3",
   "language": "python",
   "name": "python3"
  },
  "language_info": {
   "codemirror_mode": {
    "name": "ipython",
    "version": 3
   },
   "file_extension": ".py",
   "mimetype": "text/x-python",
   "name": "python",
   "nbconvert_exporter": "python",
   "pygments_lexer": "ipython3",
   "version": "3.8.10"
  },
  "orig_nbformat": 4
 },
 "nbformat": 4,
 "nbformat_minor": 2
}
